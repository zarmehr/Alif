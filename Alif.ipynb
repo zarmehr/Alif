{
 "cells": [
  {
   "cell_type": "code",
   "execution_count": 1,
   "id": "ddd1fdd3",
   "metadata": {},
   "outputs": [],
   "source": [
    "import pandas as pd\n",
    "from sklearn.model_selection import train_test_split, cross_val_score, GridSearchCV\n",
    "from sklearn.metrics import accuracy_score\n",
    "from sklearn.linear_model import LogisticRegression\n",
    "from sklearn.ensemble import VotingClassifier\n",
    "from sklearn.impute import SimpleImputer\n",
    "from sklearn.preprocessing import StandardScaler"
   ]
  },
  {
   "cell_type": "code",
   "execution_count": 2,
   "id": "27ed0afb",
   "metadata": {},
   "outputs": [],
   "source": [
    "train = pd.read_csv(\"credit_train.csv\",header=0,encoding='unicode_escape',sep=\";\")\n",
    "test =pd.read_csv(\"credit_test.csv\",header=0,encoding='unicode_escape',sep=\";\")"
   ]
  },
  {
   "cell_type": "code",
   "execution_count": 3,
   "id": "a55351d4",
   "metadata": {},
   "outputs": [
    {
     "data": {
      "text/html": [
       "<div>\n",
       "<style scoped>\n",
       "    .dataframe tbody tr th:only-of-type {\n",
       "        vertical-align: middle;\n",
       "    }\n",
       "\n",
       "    .dataframe tbody tr th {\n",
       "        vertical-align: top;\n",
       "    }\n",
       "\n",
       "    .dataframe thead th {\n",
       "        text-align: right;\n",
       "    }\n",
       "</style>\n",
       "<table border=\"1\" class=\"dataframe\">\n",
       "  <thead>\n",
       "    <tr style=\"text-align: right;\">\n",
       "      <th></th>\n",
       "      <th>client_id</th>\n",
       "      <th>gender</th>\n",
       "      <th>age</th>\n",
       "      <th>marital_status</th>\n",
       "      <th>job_position</th>\n",
       "      <th>credit_sum</th>\n",
       "      <th>credit_month</th>\n",
       "      <th>tariff_id</th>\n",
       "      <th>score_shk</th>\n",
       "      <th>education</th>\n",
       "      <th>living_region</th>\n",
       "      <th>monthly_income</th>\n",
       "      <th>credit_count</th>\n",
       "      <th>overdue_credit_count</th>\n",
       "      <th>open_account_flg</th>\n",
       "    </tr>\n",
       "  </thead>\n",
       "  <tbody>\n",
       "    <tr>\n",
       "      <th>0</th>\n",
       "      <td>1</td>\n",
       "      <td>M</td>\n",
       "      <td>48</td>\n",
       "      <td>MAR</td>\n",
       "      <td>UMN</td>\n",
       "      <td>59998,00</td>\n",
       "      <td>10</td>\n",
       "      <td>1.6</td>\n",
       "      <td>0,770249</td>\n",
       "      <td>GRD</td>\n",
       "      <td>ÊÐÀÑÍÎÄÀÐÑÊÈÉ ÊÐÀÉ</td>\n",
       "      <td>30000.0</td>\n",
       "      <td>1.0</td>\n",
       "      <td>1.0</td>\n",
       "      <td>0</td>\n",
       "    </tr>\n",
       "    <tr>\n",
       "      <th>1</th>\n",
       "      <td>2</td>\n",
       "      <td>F</td>\n",
       "      <td>28</td>\n",
       "      <td>MAR</td>\n",
       "      <td>UMN</td>\n",
       "      <td>10889,00</td>\n",
       "      <td>6</td>\n",
       "      <td>1.1</td>\n",
       "      <td>0,248514</td>\n",
       "      <td>GRD</td>\n",
       "      <td>ÌÎÑÊÂÀ</td>\n",
       "      <td>43000.0</td>\n",
       "      <td>2.0</td>\n",
       "      <td>0.0</td>\n",
       "      <td>0</td>\n",
       "    </tr>\n",
       "    <tr>\n",
       "      <th>2</th>\n",
       "      <td>3</td>\n",
       "      <td>M</td>\n",
       "      <td>32</td>\n",
       "      <td>MAR</td>\n",
       "      <td>SPC</td>\n",
       "      <td>10728,00</td>\n",
       "      <td>12</td>\n",
       "      <td>1.1</td>\n",
       "      <td>0,459589</td>\n",
       "      <td>SCH</td>\n",
       "      <td>ÎÁË ÑÀÐÀÒÎÂÑÊÀß</td>\n",
       "      <td>23000.0</td>\n",
       "      <td>5.0</td>\n",
       "      <td>0.0</td>\n",
       "      <td>0</td>\n",
       "    </tr>\n",
       "    <tr>\n",
       "      <th>3</th>\n",
       "      <td>4</td>\n",
       "      <td>F</td>\n",
       "      <td>27</td>\n",
       "      <td>DIV</td>\n",
       "      <td>SPC</td>\n",
       "      <td>12009,09</td>\n",
       "      <td>12</td>\n",
       "      <td>1.1</td>\n",
       "      <td>0,362536</td>\n",
       "      <td>GRD</td>\n",
       "      <td>ÎÁË ÂÎËÃÎÃÐÀÄÑÊÀß</td>\n",
       "      <td>17000.0</td>\n",
       "      <td>2.0</td>\n",
       "      <td>0.0</td>\n",
       "      <td>0</td>\n",
       "    </tr>\n",
       "    <tr>\n",
       "      <th>4</th>\n",
       "      <td>5</td>\n",
       "      <td>M</td>\n",
       "      <td>45</td>\n",
       "      <td>MAR</td>\n",
       "      <td>SPC</td>\n",
       "      <td>16908,89</td>\n",
       "      <td>10</td>\n",
       "      <td>1.1</td>\n",
       "      <td>0,421385</td>\n",
       "      <td>SCH</td>\n",
       "      <td>×ÅËßÁÈÍÑÊÀß ÎÁËÀÑÒÜ</td>\n",
       "      <td>25000.0</td>\n",
       "      <td>1.0</td>\n",
       "      <td>0.0</td>\n",
       "      <td>0</td>\n",
       "    </tr>\n",
       "  </tbody>\n",
       "</table>\n",
       "</div>"
      ],
      "text/plain": [
       "   client_id gender  age marital_status job_position credit_sum  credit_month  \\\n",
       "0          1      M   48            MAR          UMN   59998,00            10   \n",
       "1          2      F   28            MAR          UMN   10889,00             6   \n",
       "2          3      M   32            MAR          SPC   10728,00            12   \n",
       "3          4      F   27            DIV          SPC   12009,09            12   \n",
       "4          5      M   45            MAR          SPC   16908,89            10   \n",
       "\n",
       "   tariff_id score_shk education        living_region  monthly_income  \\\n",
       "0        1.6  0,770249       GRD   ÊÐÀÑÍÎÄÀÐÑÊÈÉ ÊÐÀÉ         30000.0   \n",
       "1        1.1  0,248514       GRD               ÌÎÑÊÂÀ         43000.0   \n",
       "2        1.1  0,459589       SCH      ÎÁË ÑÀÐÀÒÎÂÑÊÀß         23000.0   \n",
       "3        1.1  0,362536       GRD    ÎÁË ÂÎËÃÎÃÐÀÄÑÊÀß         17000.0   \n",
       "4        1.1  0,421385       SCH  ×ÅËßÁÈÍÑÊÀß ÎÁËÀÑÒÜ         25000.0   \n",
       "\n",
       "   credit_count  overdue_credit_count  open_account_flg  \n",
       "0           1.0                   1.0                 0  \n",
       "1           2.0                   0.0                 0  \n",
       "2           5.0                   0.0                 0  \n",
       "3           2.0                   0.0                 0  \n",
       "4           1.0                   0.0                 0  "
      ]
     },
     "execution_count": 3,
     "metadata": {},
     "output_type": "execute_result"
    }
   ],
   "source": [
    "train.head(5)"
   ]
  },
  {
   "cell_type": "code",
   "execution_count": 4,
   "id": "b44652a1",
   "metadata": {},
   "outputs": [
    {
     "data": {
      "text/html": [
       "<div>\n",
       "<style scoped>\n",
       "    .dataframe tbody tr th:only-of-type {\n",
       "        vertical-align: middle;\n",
       "    }\n",
       "\n",
       "    .dataframe tbody tr th {\n",
       "        vertical-align: top;\n",
       "    }\n",
       "\n",
       "    .dataframe thead th {\n",
       "        text-align: right;\n",
       "    }\n",
       "</style>\n",
       "<table border=\"1\" class=\"dataframe\">\n",
       "  <thead>\n",
       "    <tr style=\"text-align: right;\">\n",
       "      <th></th>\n",
       "      <th>client_id</th>\n",
       "      <th>gender</th>\n",
       "      <th>age</th>\n",
       "      <th>marital_status</th>\n",
       "      <th>job_position</th>\n",
       "      <th>credit_sum</th>\n",
       "      <th>credit_month</th>\n",
       "      <th>tariff_id</th>\n",
       "      <th>score_shk</th>\n",
       "      <th>education</th>\n",
       "      <th>living_region</th>\n",
       "      <th>monthly_income</th>\n",
       "      <th>credit_count</th>\n",
       "      <th>overdue_credit_count</th>\n",
       "    </tr>\n",
       "  </thead>\n",
       "  <tbody>\n",
       "    <tr>\n",
       "      <th>0</th>\n",
       "      <td>170747</td>\n",
       "      <td>F</td>\n",
       "      <td>48</td>\n",
       "      <td>MAR</td>\n",
       "      <td>UMN</td>\n",
       "      <td>16558,00</td>\n",
       "      <td>10</td>\n",
       "      <td>1.10</td>\n",
       "      <td>0,370409</td>\n",
       "      <td>GRD</td>\n",
       "      <td>ÕÀÊÀÑÈß ÐÅÑÏ</td>\n",
       "      <td>34000</td>\n",
       "      <td>2.0</td>\n",
       "      <td>0.0</td>\n",
       "    </tr>\n",
       "    <tr>\n",
       "      <th>1</th>\n",
       "      <td>170748</td>\n",
       "      <td>M</td>\n",
       "      <td>29</td>\n",
       "      <td>MAR</td>\n",
       "      <td>SPC</td>\n",
       "      <td>7028,72</td>\n",
       "      <td>6</td>\n",
       "      <td>1.40</td>\n",
       "      <td>0,377281</td>\n",
       "      <td>SCH</td>\n",
       "      <td>ÎÁË ÊÅÌÅÐÎÂÑÊÀß</td>\n",
       "      <td>19000</td>\n",
       "      <td>3.0</td>\n",
       "      <td>0.0</td>\n",
       "    </tr>\n",
       "    <tr>\n",
       "      <th>2</th>\n",
       "      <td>170749</td>\n",
       "      <td>F</td>\n",
       "      <td>20</td>\n",
       "      <td>UNM</td>\n",
       "      <td>SPC</td>\n",
       "      <td>13019,00</td>\n",
       "      <td>10</td>\n",
       "      <td>1.60</td>\n",
       "      <td>0,538515</td>\n",
       "      <td>SCH</td>\n",
       "      <td>ÎÁË ÁÅËÃÎÐÎÄÑÊÀß</td>\n",
       "      <td>25000</td>\n",
       "      <td>1.0</td>\n",
       "      <td>0.0</td>\n",
       "    </tr>\n",
       "    <tr>\n",
       "      <th>3</th>\n",
       "      <td>170750</td>\n",
       "      <td>F</td>\n",
       "      <td>41</td>\n",
       "      <td>MAR</td>\n",
       "      <td>SPC</td>\n",
       "      <td>9379,00</td>\n",
       "      <td>10</td>\n",
       "      <td>1.10</td>\n",
       "      <td>0,482520</td>\n",
       "      <td>GRD</td>\n",
       "      <td>ÎÁË ÈÐÊÓÒÑÊÀß</td>\n",
       "      <td>30000</td>\n",
       "      <td>0.0</td>\n",
       "      <td>0.0</td>\n",
       "    </tr>\n",
       "    <tr>\n",
       "      <th>4</th>\n",
       "      <td>170751</td>\n",
       "      <td>F</td>\n",
       "      <td>31</td>\n",
       "      <td>MAR</td>\n",
       "      <td>SPC</td>\n",
       "      <td>13990,00</td>\n",
       "      <td>6</td>\n",
       "      <td>1.43</td>\n",
       "      <td>0,485914</td>\n",
       "      <td>GRD</td>\n",
       "      <td>ÎÁË ÊÈÐÎÂÑÊÀß</td>\n",
       "      <td>20000</td>\n",
       "      <td>2.0</td>\n",
       "      <td>0.0</td>\n",
       "    </tr>\n",
       "  </tbody>\n",
       "</table>\n",
       "</div>"
      ],
      "text/plain": [
       "   client_id gender  age marital_status job_position credit_sum  credit_month  \\\n",
       "0     170747      F   48            MAR          UMN   16558,00            10   \n",
       "1     170748      M   29            MAR          SPC    7028,72             6   \n",
       "2     170749      F   20            UNM          SPC   13019,00            10   \n",
       "3     170750      F   41            MAR          SPC    9379,00            10   \n",
       "4     170751      F   31            MAR          SPC   13990,00             6   \n",
       "\n",
       "   tariff_id score_shk education     living_region  monthly_income  \\\n",
       "0       1.10  0,370409       GRD      ÕÀÊÀÑÈß ÐÅÑÏ           34000   \n",
       "1       1.40  0,377281       SCH   ÎÁË ÊÅÌÅÐÎÂÑÊÀß           19000   \n",
       "2       1.60  0,538515       SCH  ÎÁË ÁÅËÃÎÐÎÄÑÊÀß           25000   \n",
       "3       1.10  0,482520       GRD     ÎÁË ÈÐÊÓÒÑÊÀß           30000   \n",
       "4       1.43  0,485914       GRD     ÎÁË ÊÈÐÎÂÑÊÀß           20000   \n",
       "\n",
       "   credit_count  overdue_credit_count  \n",
       "0           2.0                   0.0  \n",
       "1           3.0                   0.0  \n",
       "2           1.0                   0.0  \n",
       "3           0.0                   0.0  \n",
       "4           2.0                   0.0  "
      ]
     },
     "execution_count": 4,
     "metadata": {},
     "output_type": "execute_result"
    }
   ],
   "source": [
    "test.head(5)"
   ]
  },
  {
   "cell_type": "code",
   "execution_count": 5,
   "id": "f42903c7",
   "metadata": {},
   "outputs": [
    {
     "name": "stdout",
     "output_type": "stream",
     "text": [
      "<class 'pandas.core.frame.DataFrame'>\n",
      "RangeIndex: 170746 entries, 0 to 170745\n",
      "Data columns (total 15 columns):\n",
      " #   Column                Non-Null Count   Dtype  \n",
      "---  ------                --------------   -----  \n",
      " 0   client_id             170746 non-null  int64  \n",
      " 1   gender                170746 non-null  object \n",
      " 2   age                   170746 non-null  int64  \n",
      " 3   marital_status        170746 non-null  object \n",
      " 4   job_position          170746 non-null  object \n",
      " 5   credit_sum            170746 non-null  object \n",
      " 6   credit_month          170746 non-null  int64  \n",
      " 7   tariff_id             170746 non-null  float64\n",
      " 8   score_shk             170746 non-null  object \n",
      " 9   education             170746 non-null  object \n",
      " 10  living_region         170554 non-null  object \n",
      " 11  monthly_income        170745 non-null  float64\n",
      " 12  credit_count          161516 non-null  float64\n",
      " 13  overdue_credit_count  161516 non-null  float64\n",
      " 14  open_account_flg      170746 non-null  int64  \n",
      "dtypes: float64(4), int64(4), object(7)\n",
      "memory usage: 19.5+ MB\n"
     ]
    }
   ],
   "source": [
    "train.info()"
   ]
  },
  {
   "cell_type": "code",
   "execution_count": 6,
   "id": "ee7f4842",
   "metadata": {},
   "outputs": [
    {
     "name": "stdout",
     "output_type": "stream",
     "text": [
      "<class 'pandas.core.frame.DataFrame'>\n",
      "RangeIndex: 91940 entries, 0 to 91939\n",
      "Data columns (total 14 columns):\n",
      " #   Column                Non-Null Count  Dtype  \n",
      "---  ------                --------------  -----  \n",
      " 0   client_id             91940 non-null  int64  \n",
      " 1   gender                91940 non-null  object \n",
      " 2   age                   91940 non-null  int64  \n",
      " 3   marital_status        91940 non-null  object \n",
      " 4   job_position          91940 non-null  object \n",
      " 5   credit_sum            91940 non-null  object \n",
      " 6   credit_month          91940 non-null  int64  \n",
      " 7   tariff_id             91940 non-null  float64\n",
      " 8   score_shk             91940 non-null  object \n",
      " 9   education             91940 non-null  object \n",
      " 10  living_region         91824 non-null  object \n",
      " 11  monthly_income        91940 non-null  int64  \n",
      " 12  credit_count          87237 non-null  float64\n",
      " 13  overdue_credit_count  87237 non-null  float64\n",
      "dtypes: float64(3), int64(4), object(7)\n",
      "memory usage: 9.8+ MB\n"
     ]
    }
   ],
   "source": [
    "test.info()"
   ]
  },
  {
   "cell_type": "markdown",
   "id": "e6c0c5ce",
   "metadata": {},
   "source": [
    "1) Cleaning the data:\n",
    "First thing to notice is that \"credit_sum\" and \"score_shk\" both compromise of \"object\" values,therefore we need to change \",\" to \".\",to make them float. Also there some missing values we need to fill in parameters:\"living region\",\"monthly income\",\"credit_count\" and \"overdue_credit_count\"."
   ]
  },
  {
   "cell_type": "code",
   "execution_count": 7,
   "id": "3bc0e873",
   "metadata": {},
   "outputs": [],
   "source": [
    "train[\"credit_sum\"]=train[\"credit_sum\"].str.replace(\",\",\".\")\n",
    "train[\"score_shk\"]=train[\"score_shk\"].str.replace(\",\",\".\")\n",
    "test[\"credit_sum\"]=test[\"credit_sum\"].str.replace(\",\",\".\")\n",
    "test[\"score_shk\"]=test[\"score_shk\"].str.replace(\",\",\".\")"
   ]
  },
  {
   "cell_type": "code",
   "execution_count": 8,
   "id": "cbc536b4",
   "metadata": {},
   "outputs": [],
   "source": [
    "train[\"credit_sum\"]=train[\"credit_sum\"].astype('float')\n",
    "train[\"score_shk\"]=(train[\"score_shk\"]).astype('float')\n",
    "test[\"credit_sum\"]=test[\"credit_sum\"].astype('float')\n",
    "test[\"score_shk\"]=test[\"score_shk\"].astype('float')"
   ]
  },
  {
   "cell_type": "markdown",
   "id": "6348bab8",
   "metadata": {},
   "source": [
    "Encoding categorical values into numeric"
   ]
  },
  {
   "cell_type": "code",
   "execution_count": 9,
   "id": "26f6d903",
   "metadata": {},
   "outputs": [],
   "source": [
    "# Identify most relevant features\n",
    "# after encoding categorical data below, i checked that \"living_region\" has the lowest correclation with our target\n",
    "#I decided not to add it to our model, since it will significatlly slow it down\n",
    "\n",
    "relevant_features=[\"gender\",\"age\",\"marital_status\",\"job_position\",\"credit_sum\",\"credit_month\",\"tariff_id\",\"score_shk\",\"education\",\"monthly_income\",\"credit_count\",\"overdue_credit_count\"]\n",
    "# Handle missing values\n",
    "imputer = SimpleImputer(strategy='most_frequent')\n",
    "train[relevant_features] = imputer.fit_transform(train[relevant_features])\n",
    "test[relevant_features] = imputer.transform(test[relevant_features])\n"
   ]
  },
  {
   "cell_type": "code",
   "execution_count": 10,
   "id": "a5cda560",
   "metadata": {},
   "outputs": [],
   "source": [
    "train['gender'] = train['gender'].map({'M': 0, 'F': 1})\n",
    "test['gender'] = test['gender'].map({'M': 0, 'F': 1})\n",
    "\n",
    "train[\"marital_status\"] = train[\"marital_status\"].map({'MAR':0, 'DIV':1, 'UNM':2, 'WID':3, 'CIV':4})\n",
    "test[\"marital_status\"] = test[\"marital_status\"].map({'MAR':0, 'DIV':1, 'UNM':2, 'WID':3, 'CIV':4})\n",
    "\n",
    "train['job_position'] = train['job_position'].map({'UMN':0, 'SPC':1, 'INP':2, 'DIR':3, 'ATP':4, 'PNA':5, 'BIS':6, 'WOI':7, 'NOR':8,\n",
    "           'WRK':9, 'WRP':10, 'PNV':11, 'BIU':12, 'PNI':13, 'HSK':14, 'PNS':15, 'INV':16, 'ONB':17})\n",
    "test['job_position'] = test['job_position'].map({'UMN':0, 'SPC':1, 'INP':2, 'DIR':3, 'ATP':4, 'PNA':5, 'BIS':6, 'WOI':7, 'NOR':8,\n",
    "       'WRK':9, 'WRP':10, 'PNV':11, 'BIU':12, 'PNI':13, 'HSK':14, 'PNS':15, 'INV':16, 'ONB':17})\n",
    "\n",
    "train[\"education\"] = train[\"education\"].map({'GRD':0, 'SCH':1, 'UGR':2, 'PGR':3, 'ACD':4})\n",
    "test[\"education\"] = test[\"education\"].map({'GRD':0, 'SCH':1, 'UGR':2, 'PGR':3, 'ACD':4})\n",
    "\n",
    "#d={}\n",
    "#region=train[\"living_region\"].unique()\n",
    "#for i in range(302):\n",
    "#    d[region[i]]=i\n",
    "#train[\"living_region\"]= train[\"living_region\"].map(d)\n",
    "\n",
    "#b={}\n",
    "#region2=test[\"living_region\"].unique()\n",
    "#for i in range(302):\n",
    "#    b[region[i]]=i\n",
    "#test[\"living_region\"]= test[\"living_region\"].map(b)\n",
    "\n",
    "\n",
    "# after looking to correlations I decided not to add \"living_rigion\" to the \"relavent_features\", look at the previous cell"
   ]
  },
  {
   "cell_type": "code",
   "execution_count": 11,
   "id": "00595340",
   "metadata": {},
   "outputs": [],
   "source": [
    "# Transform skewed or non-normal features\n",
    "# Instead of normalizing all of the numeric features, you could try using techniques like log transformation or Box-Cox transformation to make the distribution of a feature more normal\n",
    "scaler = StandardScaler()\n",
    "train[relevant_features] = scaler.fit_transform(train[relevant_features])\n",
    "test[relevant_features] = scaler.transform(test[relevant_features])"
   ]
  },
  {
   "cell_type": "code",
   "execution_count": 12,
   "id": "7b2ac80a",
   "metadata": {},
   "outputs": [],
   "source": [
    "X_train = train[relevant_features]\n",
    "y_train = train['open_account_flg']\n",
    "X_test = test[relevant_features]"
   ]
  },
  {
   "cell_type": "code",
   "execution_count": 13,
   "id": "e5112086",
   "metadata": {},
   "outputs": [],
   "source": [
    "# Split the data into training and cross-validation sets\n",
    "X_train, X_val, y_train, y_val = train_test_split(X_train, y_train, test_size=0.2, random_state=33)"
   ]
  },
  {
   "cell_type": "code",
   "execution_count": 14,
   "id": "cb7d1665",
   "metadata": {},
   "outputs": [
    {
     "name": "stdout",
     "output_type": "stream",
     "text": [
      "Best parameters for logistic regression:  {'C': 0.001}\n"
     ]
    },
    {
     "data": {
      "text/plain": [
       "VotingClassifier(estimators=[('lr', LogisticRegression(C=0.001))])"
      ]
     },
     "execution_count": 14,
     "metadata": {},
     "output_type": "execute_result"
    }
   ],
   "source": [
    "log_reg = LogisticRegression()\n",
    "model = VotingClassifier(estimators=[('lr', log_reg)])\n",
    "model.fit(X_train, y_train)\n",
    "\n",
    "\n",
    "param_grid = {'C': [0.001, 0.01, 0.1, 1, 10]}\n",
    "grid_search = GridSearchCV(log_reg, param_grid, cv=5)\n",
    "grid_search.fit(X_train, y_train)\n",
    "best_log_reg = grid_search.best_estimator_\n",
    "print(\"Best parameters for logistic regression: \", grid_search.best_params_)\n",
    "\n",
    "\n",
    "model = VotingClassifier(estimators=[('lr', best_log_reg)])\n",
    "model.fit(X_train, y_train)"
   ]
  },
  {
   "cell_type": "code",
   "execution_count": 15,
   "id": "523004d7",
   "metadata": {},
   "outputs": [
    {
     "name": "stdout",
     "output_type": "stream",
     "text": [
      "Accuracy:  0.8256515373352855\n"
     ]
    }
   ],
   "source": [
    "# Evaluate the fine-tuned model\n",
    "y_pred = model.predict(X_val)\n",
    "accuracy = accuracy_score(y_val, y_pred)\n",
    "print(\"Accuracy: \", accuracy)"
   ]
  },
  {
   "cell_type": "code",
   "execution_count": 16,
   "id": "5496aaad",
   "metadata": {},
   "outputs": [
    {
     "name": "stdout",
     "output_type": "stream",
     "text": [
      "Accuracy of logistic regression classifier:  0.8233989309753207\n"
     ]
    }
   ],
   "source": [
    "# Evaluate the logistic regression classifier\n",
    "scores = cross_val_score(log_reg, X_train, y_train, cv=5)\n",
    "print(\"Accuracy of logistic regression classifier: \", scores.mean())"
   ]
  },
  {
   "cell_type": "code",
   "execution_count": 17,
   "id": "c0738ce1",
   "metadata": {},
   "outputs": [],
   "source": [
    "# Make predictions on the test set\n",
    "y_pred = model.predict(X_test)"
   ]
  },
  {
   "cell_type": "code",
   "execution_count": 18,
   "id": "fe0fce5c",
   "metadata": {},
   "outputs": [],
   "source": [
    "# Save the predictions to a CSV file\n",
    "output = pd.DataFrame({'client_id': test['client_id'], 'open_account_flg': y_pred})\n",
    "output.to_csv('submission.csv', index=False)"
   ]
  }
 ],
 "metadata": {
  "kernelspec": {
   "display_name": "Python 3 (ipykernel)",
   "language": "python",
   "name": "python3"
  },
  "language_info": {
   "codemirror_mode": {
    "name": "ipython",
    "version": 3
   },
   "file_extension": ".py",
   "mimetype": "text/x-python",
   "name": "python",
   "nbconvert_exporter": "python",
   "pygments_lexer": "ipython3",
   "version": "3.9.13"
  }
 },
 "nbformat": 4,
 "nbformat_minor": 5
}
