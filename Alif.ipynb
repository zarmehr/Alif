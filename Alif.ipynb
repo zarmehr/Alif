{
 "cells": [
  {
   "cell_type": "code",
   "execution_count": 1,
   "id": "ddd1fdd3",
   "metadata": {},
   "outputs": [
    {
     "ename": "ModuleNotFoundError",
     "evalue": "No module named 'pandas'",
     "output_type": "error",
     "traceback": [
      "\u001b[1;31m---------------------------------------------------------------------------\u001b[0m",
      "\u001b[1;31mModuleNotFoundError\u001b[0m                       Traceback (most recent call last)",
      "Cell \u001b[1;32mIn[1], line 1\u001b[0m\n\u001b[1;32m----> 1\u001b[0m \u001b[38;5;28;01mimport\u001b[39;00m \u001b[38;5;21;01mpandas\u001b[39;00m \u001b[38;5;28;01mas\u001b[39;00m \u001b[38;5;21;01mpd\u001b[39;00m\n\u001b[0;32m      2\u001b[0m \u001b[38;5;28;01mfrom\u001b[39;00m \u001b[38;5;21;01msklearn\u001b[39;00m\u001b[38;5;21;01m.\u001b[39;00m\u001b[38;5;21;01mmodel_selection\u001b[39;00m \u001b[38;5;28;01mimport\u001b[39;00m train_test_split, cross_val_score, GridSearchCV\n\u001b[0;32m      3\u001b[0m \u001b[38;5;28;01mfrom\u001b[39;00m \u001b[38;5;21;01msklearn\u001b[39;00m\u001b[38;5;21;01m.\u001b[39;00m\u001b[38;5;21;01mmetrics\u001b[39;00m \u001b[38;5;28;01mimport\u001b[39;00m accuracy_score\n",
      "\u001b[1;31mModuleNotFoundError\u001b[0m: No module named 'pandas'"
     ]
    }
   ],
   "source": [
    "import pandas as pd\n",
    "from sklearn.model_selection import train_test_split, cross_val_score, GridSearchCV\n",
    "from sklearn.metrics import accuracy_score\n",
    "from sklearn.linear_model import LogisticRegression\n",
    "from sklearn.ensemble import VotingClassifier\n",
    "from sklearn.impute import SimpleImputer\n",
    "from sklearn.preprocessing import StandardScaler"
   ]
  },
  {
   "cell_type": "code",
   "execution_count": 96,
   "id": "27ed0afb",
   "metadata": {},
   "outputs": [],
   "source": [
    "train = pd.read_csv(\"credit_train.csv\",header=0,encoding='unicode_escape',sep=\";\")\n",
    "test =pd.read_csv(\"credit_test.csv\",header=0,encoding='unicode_escape',sep=\";\")"
   ]
  },
  {
   "cell_type": "code",
   "execution_count": 116,
   "id": "a55351d4",
   "metadata": {},
   "outputs": [
    {
     "data": {
      "text/html": [
       "<div>\n",
       "<style scoped>\n",
       "    .dataframe tbody tr th:only-of-type {\n",
       "        vertical-align: middle;\n",
       "    }\n",
       "\n",
       "    .dataframe tbody tr th {\n",
       "        vertical-align: top;\n",
       "    }\n",
       "\n",
       "    .dataframe thead th {\n",
       "        text-align: right;\n",
       "    }\n",
       "</style>\n",
       "<table border=\"1\" class=\"dataframe\">\n",
       "  <thead>\n",
       "    <tr style=\"text-align: right;\">\n",
       "      <th></th>\n",
       "      <th>client_id</th>\n",
       "      <th>gender</th>\n",
       "      <th>age</th>\n",
       "      <th>marital_status</th>\n",
       "      <th>job_position</th>\n",
       "      <th>credit_sum</th>\n",
       "      <th>credit_month</th>\n",
       "      <th>tariff_id</th>\n",
       "      <th>score_shk</th>\n",
       "      <th>education</th>\n",
       "      <th>living_region</th>\n",
       "      <th>monthly_income</th>\n",
       "      <th>credit_count</th>\n",
       "      <th>overdue_credit_count</th>\n",
       "      <th>open_account_flg</th>\n",
       "    </tr>\n",
       "  </thead>\n",
       "  <tbody>\n",
       "    <tr>\n",
       "      <th>0</th>\n",
       "      <td>1</td>\n",
       "      <td>-1.039723</td>\n",
       "      <td>1.090721</td>\n",
       "      <td>-0.813987</td>\n",
       "      <td>-0.912631</td>\n",
       "      <td>2.088296</td>\n",
       "      <td>-0.277307</td>\n",
       "      <td>1.170843</td>\n",
       "      <td>2.420388</td>\n",
       "      <td>-1.049378</td>\n",
       "      <td>0</td>\n",
       "      <td>-0.404816</td>\n",
       "      <td>-0.599755</td>\n",
       "      <td>4.642515</td>\n",
       "      <td>0</td>\n",
       "    </tr>\n",
       "    <tr>\n",
       "      <th>1</th>\n",
       "      <td>2</td>\n",
       "      <td>0.961794</td>\n",
       "      <td>-0.805737</td>\n",
       "      <td>-0.813987</td>\n",
       "      <td>-0.912631</td>\n",
       "      <td>-0.936636</td>\n",
       "      <td>-1.408309</td>\n",
       "      <td>-0.949485</td>\n",
       "      <td>-1.778092</td>\n",
       "      <td>-1.049378</td>\n",
       "      <td>1</td>\n",
       "      <td>0.114269</td>\n",
       "      <td>-0.027170</td>\n",
       "      <td>-0.211536</td>\n",
       "      <td>0</td>\n",
       "    </tr>\n",
       "    <tr>\n",
       "      <th>2</th>\n",
       "      <td>3</td>\n",
       "      <td>-1.039723</td>\n",
       "      <td>-0.426445</td>\n",
       "      <td>-0.813987</td>\n",
       "      <td>-0.230989</td>\n",
       "      <td>-0.946553</td>\n",
       "      <td>0.288194</td>\n",
       "      <td>-0.949485</td>\n",
       "      <td>-0.079540</td>\n",
       "      <td>0.586285</td>\n",
       "      <td>2</td>\n",
       "      <td>-0.684323</td>\n",
       "      <td>1.690585</td>\n",
       "      <td>-0.211536</td>\n",
       "      <td>0</td>\n",
       "    </tr>\n",
       "    <tr>\n",
       "      <th>3</th>\n",
       "      <td>4</td>\n",
       "      <td>0.961794</td>\n",
       "      <td>-0.900560</td>\n",
       "      <td>0.122084</td>\n",
       "      <td>-0.230989</td>\n",
       "      <td>-0.867643</td>\n",
       "      <td>0.288194</td>\n",
       "      <td>-0.949485</td>\n",
       "      <td>-0.860540</td>\n",
       "      <td>-1.049378</td>\n",
       "      <td>3</td>\n",
       "      <td>-0.923900</td>\n",
       "      <td>-0.027170</td>\n",
       "      <td>-0.211536</td>\n",
       "      <td>0</td>\n",
       "    </tr>\n",
       "    <tr>\n",
       "      <th>4</th>\n",
       "      <td>5</td>\n",
       "      <td>-1.039723</td>\n",
       "      <td>0.806252</td>\n",
       "      <td>-0.813987</td>\n",
       "      <td>-0.230989</td>\n",
       "      <td>-0.565833</td>\n",
       "      <td>-0.277307</td>\n",
       "      <td>-0.949485</td>\n",
       "      <td>-0.386973</td>\n",
       "      <td>0.586285</td>\n",
       "      <td>4</td>\n",
       "      <td>-0.604464</td>\n",
       "      <td>-0.599755</td>\n",
       "      <td>-0.211536</td>\n",
       "      <td>0</td>\n",
       "    </tr>\n",
       "  </tbody>\n",
       "</table>\n",
       "</div>"
      ],
      "text/plain": [
       "   client_id    gender       age  marital_status  job_position  credit_sum  \\\n",
       "0          1 -1.039723  1.090721       -0.813987     -0.912631    2.088296   \n",
       "1          2  0.961794 -0.805737       -0.813987     -0.912631   -0.936636   \n",
       "2          3 -1.039723 -0.426445       -0.813987     -0.230989   -0.946553   \n",
       "3          4  0.961794 -0.900560        0.122084     -0.230989   -0.867643   \n",
       "4          5 -1.039723  0.806252       -0.813987     -0.230989   -0.565833   \n",
       "\n",
       "   credit_month  tariff_id  score_shk  education  living_region  \\\n",
       "0     -0.277307   1.170843   2.420388  -1.049378              0   \n",
       "1     -1.408309  -0.949485  -1.778092  -1.049378              1   \n",
       "2      0.288194  -0.949485  -0.079540   0.586285              2   \n",
       "3      0.288194  -0.949485  -0.860540  -1.049378              3   \n",
       "4     -0.277307  -0.949485  -0.386973   0.586285              4   \n",
       "\n",
       "   monthly_income  credit_count  overdue_credit_count  open_account_flg  \n",
       "0       -0.404816     -0.599755              4.642515                 0  \n",
       "1        0.114269     -0.027170             -0.211536                 0  \n",
       "2       -0.684323      1.690585             -0.211536                 0  \n",
       "3       -0.923900     -0.027170             -0.211536                 0  \n",
       "4       -0.604464     -0.599755             -0.211536                 0  "
      ]
     },
     "execution_count": 116,
     "metadata": {},
     "output_type": "execute_result"
    }
   ],
   "source": [
    "train.head(5)"
   ]
  },
  {
   "cell_type": "code",
   "execution_count": 115,
   "id": "b44652a1",
   "metadata": {},
   "outputs": [
    {
     "data": {
      "text/html": [
       "<div>\n",
       "<style scoped>\n",
       "    .dataframe tbody tr th:only-of-type {\n",
       "        vertical-align: middle;\n",
       "    }\n",
       "\n",
       "    .dataframe tbody tr th {\n",
       "        vertical-align: top;\n",
       "    }\n",
       "\n",
       "    .dataframe thead th {\n",
       "        text-align: right;\n",
       "    }\n",
       "</style>\n",
       "<table border=\"1\" class=\"dataframe\">\n",
       "  <thead>\n",
       "    <tr style=\"text-align: right;\">\n",
       "      <th></th>\n",
       "      <th>client_id</th>\n",
       "      <th>gender</th>\n",
       "      <th>age</th>\n",
       "      <th>marital_status</th>\n",
       "      <th>job_position</th>\n",
       "      <th>credit_sum</th>\n",
       "      <th>credit_month</th>\n",
       "      <th>tariff_id</th>\n",
       "      <th>score_shk</th>\n",
       "      <th>education</th>\n",
       "      <th>living_region</th>\n",
       "      <th>monthly_income</th>\n",
       "      <th>credit_count</th>\n",
       "      <th>overdue_credit_count</th>\n",
       "    </tr>\n",
       "  </thead>\n",
       "  <tbody>\n",
       "    <tr>\n",
       "      <th>0</th>\n",
       "      <td>170747</td>\n",
       "      <td>0.961794</td>\n",
       "      <td>1.090721</td>\n",
       "      <td>-0.813987</td>\n",
       "      <td>-0.912631</td>\n",
       "      <td>-0.587447</td>\n",
       "      <td>-0.277307</td>\n",
       "      <td>-0.949485</td>\n",
       "      <td>-0.797184</td>\n",
       "      <td>-1.049378</td>\n",
       "      <td>95.0</td>\n",
       "      <td>-0.245097</td>\n",
       "      <td>-0.027170</td>\n",
       "      <td>-0.211536</td>\n",
       "    </tr>\n",
       "    <tr>\n",
       "      <th>1</th>\n",
       "      <td>170748</td>\n",
       "      <td>-1.039723</td>\n",
       "      <td>-0.710914</td>\n",
       "      <td>-0.813987</td>\n",
       "      <td>-0.230989</td>\n",
       "      <td>-1.174415</td>\n",
       "      <td>-1.408309</td>\n",
       "      <td>0.322712</td>\n",
       "      <td>-0.741884</td>\n",
       "      <td>0.586285</td>\n",
       "      <td>64.0</td>\n",
       "      <td>-0.844041</td>\n",
       "      <td>0.545415</td>\n",
       "      <td>-0.211536</td>\n",
       "    </tr>\n",
       "    <tr>\n",
       "      <th>2</th>\n",
       "      <td>170749</td>\n",
       "      <td>0.961794</td>\n",
       "      <td>-1.564320</td>\n",
       "      <td>1.058155</td>\n",
       "      <td>-0.230989</td>\n",
       "      <td>-0.805436</td>\n",
       "      <td>-0.277307</td>\n",
       "      <td>1.170843</td>\n",
       "      <td>0.555590</td>\n",
       "      <td>0.586285</td>\n",
       "      <td>26.0</td>\n",
       "      <td>-0.604464</td>\n",
       "      <td>-0.599755</td>\n",
       "      <td>-0.211536</td>\n",
       "    </tr>\n",
       "    <tr>\n",
       "      <th>3</th>\n",
       "      <td>170750</td>\n",
       "      <td>0.961794</td>\n",
       "      <td>0.426961</td>\n",
       "      <td>-0.813987</td>\n",
       "      <td>-0.230989</td>\n",
       "      <td>-1.029646</td>\n",
       "      <td>-0.277307</td>\n",
       "      <td>-0.949485</td>\n",
       "      <td>0.104990</td>\n",
       "      <td>-1.049378</td>\n",
       "      <td>22.0</td>\n",
       "      <td>-0.404816</td>\n",
       "      <td>-1.172340</td>\n",
       "      <td>-0.211536</td>\n",
       "    </tr>\n",
       "    <tr>\n",
       "      <th>4</th>\n",
       "      <td>170751</td>\n",
       "      <td>0.961794</td>\n",
       "      <td>-0.521268</td>\n",
       "      <td>-0.813987</td>\n",
       "      <td>-0.230989</td>\n",
       "      <td>-0.745626</td>\n",
       "      <td>-1.408309</td>\n",
       "      <td>0.449932</td>\n",
       "      <td>0.132302</td>\n",
       "      <td>-1.049378</td>\n",
       "      <td>75.0</td>\n",
       "      <td>-0.804112</td>\n",
       "      <td>-0.027170</td>\n",
       "      <td>-0.211536</td>\n",
       "    </tr>\n",
       "  </tbody>\n",
       "</table>\n",
       "</div>"
      ],
      "text/plain": [
       "   client_id    gender       age  marital_status  job_position  credit_sum  \\\n",
       "0     170747  0.961794  1.090721       -0.813987     -0.912631   -0.587447   \n",
       "1     170748 -1.039723 -0.710914       -0.813987     -0.230989   -1.174415   \n",
       "2     170749  0.961794 -1.564320        1.058155     -0.230989   -0.805436   \n",
       "3     170750  0.961794  0.426961       -0.813987     -0.230989   -1.029646   \n",
       "4     170751  0.961794 -0.521268       -0.813987     -0.230989   -0.745626   \n",
       "\n",
       "   credit_month  tariff_id  score_shk  education  living_region  \\\n",
       "0     -0.277307  -0.949485  -0.797184  -1.049378           95.0   \n",
       "1     -1.408309   0.322712  -0.741884   0.586285           64.0   \n",
       "2     -0.277307   1.170843   0.555590   0.586285           26.0   \n",
       "3     -0.277307  -0.949485   0.104990  -1.049378           22.0   \n",
       "4     -1.408309   0.449932   0.132302  -1.049378           75.0   \n",
       "\n",
       "   monthly_income  credit_count  overdue_credit_count  \n",
       "0       -0.245097     -0.027170             -0.211536  \n",
       "1       -0.844041      0.545415             -0.211536  \n",
       "2       -0.604464     -0.599755             -0.211536  \n",
       "3       -0.404816     -1.172340             -0.211536  \n",
       "4       -0.804112     -0.027170             -0.211536  "
      ]
     },
     "execution_count": 115,
     "metadata": {},
     "output_type": "execute_result"
    }
   ],
   "source": [
    "test.head(5)"
   ]
  },
  {
   "cell_type": "code",
   "execution_count": 98,
   "id": "f42903c7",
   "metadata": {},
   "outputs": [
    {
     "name": "stdout",
     "output_type": "stream",
     "text": [
      "<class 'pandas.core.frame.DataFrame'>\n",
      "RangeIndex: 170746 entries, 0 to 170745\n",
      "Data columns (total 15 columns):\n",
      " #   Column                Non-Null Count   Dtype  \n",
      "---  ------                --------------   -----  \n",
      " 0   client_id             170746 non-null  int64  \n",
      " 1   gender                170746 non-null  object \n",
      " 2   age                   170746 non-null  int64  \n",
      " 3   marital_status        170746 non-null  object \n",
      " 4   job_position          170746 non-null  object \n",
      " 5   credit_sum            170746 non-null  object \n",
      " 6   credit_month          170746 non-null  int64  \n",
      " 7   tariff_id             170746 non-null  float64\n",
      " 8   score_shk             170746 non-null  object \n",
      " 9   education             170746 non-null  object \n",
      " 10  living_region         170554 non-null  object \n",
      " 11  monthly_income        170745 non-null  float64\n",
      " 12  credit_count          161516 non-null  float64\n",
      " 13  overdue_credit_count  161516 non-null  float64\n",
      " 14  open_account_flg      170746 non-null  int64  \n",
      "dtypes: float64(4), int64(4), object(7)\n",
      "memory usage: 19.5+ MB\n"
     ]
    }
   ],
   "source": [
    "train.info()"
   ]
  },
  {
   "cell_type": "code",
   "execution_count": 99,
   "id": "ee7f4842",
   "metadata": {},
   "outputs": [
    {
     "name": "stdout",
     "output_type": "stream",
     "text": [
      "<class 'pandas.core.frame.DataFrame'>\n",
      "RangeIndex: 91940 entries, 0 to 91939\n",
      "Data columns (total 14 columns):\n",
      " #   Column                Non-Null Count  Dtype  \n",
      "---  ------                --------------  -----  \n",
      " 0   client_id             91940 non-null  int64  \n",
      " 1   gender                91940 non-null  object \n",
      " 2   age                   91940 non-null  int64  \n",
      " 3   marital_status        91940 non-null  object \n",
      " 4   job_position          91940 non-null  object \n",
      " 5   credit_sum            91940 non-null  object \n",
      " 6   credit_month          91940 non-null  int64  \n",
      " 7   tariff_id             91940 non-null  float64\n",
      " 8   score_shk             91940 non-null  object \n",
      " 9   education             91940 non-null  object \n",
      " 10  living_region         91824 non-null  object \n",
      " 11  monthly_income        91940 non-null  int64  \n",
      " 12  credit_count          87237 non-null  float64\n",
      " 13  overdue_credit_count  87237 non-null  float64\n",
      "dtypes: float64(3), int64(4), object(7)\n",
      "memory usage: 9.8+ MB\n"
     ]
    }
   ],
   "source": [
    "test.info()"
   ]
  },
  {
   "cell_type": "markdown",
   "id": "e6c0c5ce",
   "metadata": {},
   "source": [
    "1) Cleaning the data:\n",
    "First thing to notice is that \"credit_sum\" and \"score_shk\" both compromise of \"object\" values,therefore we need to change \",\" to \".\",to make them float. Also there some missing values we need to fill in parameters:\"living region\",\"monthly income\",\"credit_count\" and \"overdue_credit_count\"."
   ]
  },
  {
   "cell_type": "code",
   "execution_count": 100,
   "id": "3bc0e873",
   "metadata": {},
   "outputs": [],
   "source": [
    "train[\"credit_sum\"]=train[\"credit_sum\"].str.replace(\",\",\".\")\n",
    "train[\"score_shk\"]=train[\"score_shk\"].str.replace(\",\",\".\")\n",
    "test[\"credit_sum\"]=test[\"credit_sum\"].str.replace(\",\",\".\")\n",
    "test[\"score_shk\"]=test[\"score_shk\"].str.replace(\",\",\".\")"
   ]
  },
  {
   "cell_type": "code",
   "execution_count": 101,
   "id": "cbc536b4",
   "metadata": {},
   "outputs": [],
   "source": [
    "train[\"credit_sum\"]=train[\"credit_sum\"].astype('float')\n",
    "train[\"score_shk\"]=(train[\"score_shk\"]).astype('float')\n",
    "test[\"credit_sum\"]=test[\"credit_sum\"].astype('float')\n",
    "test[\"score_shk\"]=test[\"score_shk\"].astype('float')"
   ]
  },
  {
   "cell_type": "markdown",
   "id": "6348bab8",
   "metadata": {},
   "source": [
    "Encoding categorical values into numeric"
   ]
  },
  {
   "cell_type": "code",
   "execution_count": 102,
   "id": "26f6d903",
   "metadata": {},
   "outputs": [],
   "source": [
    "# Identify most relevant features\n",
    "# after encoding categorical data below, i checked that \"living_region\" has the lowest correclation with our target\n",
    "#I decided not to add it to our model, since it will significatlly slow it down\n",
    "\n",
    "relevant_features=[\"gender\",\"age\",\"marital_status\",\"job_position\",\"credit_sum\",\"credit_month\",\"tariff_id\",\"score_shk\",\"education\",\"monthly_income\",\"credit_count\",\"overdue_credit_count\"]\n",
    "# Handle missing values\n",
    "imputer = SimpleImputer(strategy='most_frequent')\n",
    "train[relevant_features] = imputer.fit_transform(train[relevant_features])\n",
    "test[relevant_features] = imputer.transform(test[relevant_features])\n"
   ]
  },
  {
   "cell_type": "code",
   "execution_count": 104,
   "id": "a5cda560",
   "metadata": {},
   "outputs": [],
   "source": [
    "train['gender'] = train['gender'].map({'M': 0, 'F': 1})\n",
    "test['gender'] = test['gender'].map({'M': 0, 'F': 1})\n",
    "\n",
    "train[\"marital_status\"] = train[\"marital_status\"].map({'MAR':0, 'DIV':1, 'UNM':2, 'WID':3, 'CIV':4})\n",
    "test[\"marital_status\"] = test[\"marital_status\"].map({'MAR':0, 'DIV':1, 'UNM':2, 'WID':3, 'CIV':4})\n",
    "\n",
    "train['job_position'] = train['job_position'].map({'UMN':0, 'SPC':1, 'INP':2, 'DIR':3, 'ATP':4, 'PNA':5, 'BIS':6, 'WOI':7, 'NOR':8,\n",
    "           'WRK':9, 'WRP':10, 'PNV':11, 'BIU':12, 'PNI':13, 'HSK':14, 'PNS':15, 'INV':16, 'ONB':17})\n",
    "test['job_position'] = test['job_position'].map({'UMN':0, 'SPC':1, 'INP':2, 'DIR':3, 'ATP':4, 'PNA':5, 'BIS':6, 'WOI':7, 'NOR':8,\n",
    "       'WRK':9, 'WRP':10, 'PNV':11, 'BIU':12, 'PNI':13, 'HSK':14, 'PNS':15, 'INV':16, 'ONB':17})\n",
    "\n",
    "train[\"education\"] = train[\"education\"].map({'GRD':0, 'SCH':1, 'UGR':2, 'PGR':3, 'ACD':4})\n",
    "test[\"education\"] = test[\"education\"].map({'GRD':0, 'SCH':1, 'UGR':2, 'PGR':3, 'ACD':4})\n",
    "\n",
    "#d={}\n",
    "#region=train[\"living_region\"].unique()\n",
    "#for i in range(302):\n",
    "#    d[region[i]]=i\n",
    "#train[\"living_region\"]= train[\"living_region\"].map(d)\n",
    "\n",
    "#b={}\n",
    "#region2=test[\"living_region\"].unique()\n",
    "#for i in range(302):\n",
    "#    b[region[i]]=i\n",
    "#test[\"living_region\"]= test[\"living_region\"].map(b)\n",
    "\n",
    "\n",
    "# after looking to correlations I decided not to add \"living_rigion\" to the \"relavent_features\", look at the previous cell"
   ]
  },
  {
   "cell_type": "code",
   "execution_count": 106,
   "id": "00595340",
   "metadata": {},
   "outputs": [],
   "source": [
    "# Transform skewed or non-normal features\n",
    "# Instead of normalizing all of the numeric features, you could try using techniques like log transformation or Box-Cox transformation to make the distribution of a feature more normal\n",
    "scaler = StandardScaler()\n",
    "train[relevant_features] = scaler.fit_transform(train[relevant_features])\n",
    "test[relevant_features] = scaler.transform(test[relevant_features])"
   ]
  },
  {
   "cell_type": "code",
   "execution_count": 107,
   "id": "7b2ac80a",
   "metadata": {},
   "outputs": [],
   "source": [
    "X_train = train[relevant_features]\n",
    "y_train = train['open_account_flg']\n",
    "X_test = test[relevant_features]"
   ]
  },
  {
   "cell_type": "code",
   "execution_count": 108,
   "id": "e5112086",
   "metadata": {},
   "outputs": [],
   "source": [
    "# Split the data into training and cross-validation sets\n",
    "X_train, X_val, y_train, y_val = train_test_split(X_train, y_train, test_size=0.2, random_state=33)"
   ]
  },
  {
   "cell_type": "code",
   "execution_count": 109,
   "id": "cb7d1665",
   "metadata": {},
   "outputs": [
    {
     "name": "stdout",
     "output_type": "stream",
     "text": [
      "Best parameters for logistic regression:  {'C': 0.001}\n"
     ]
    },
    {
     "data": {
      "text/plain": [
       "VotingClassifier(estimators=[('lr', LogisticRegression(C=0.001))])"
      ]
     },
     "execution_count": 109,
     "metadata": {},
     "output_type": "execute_result"
    }
   ],
   "source": [
    "log_reg = LogisticRegression()\n",
    "model = VotingClassifier(estimators=[('lr', log_reg)])\n",
    "model.fit(X_train, y_train)\n",
    "\n",
    "\n",
    "param_grid = {'C': [0.001, 0.01, 0.1, 1, 10]}\n",
    "grid_search = GridSearchCV(log_reg, param_grid, cv=5)\n",
    "grid_search.fit(X_train, y_train)\n",
    "best_log_reg = grid_search.best_estimator_\n",
    "print(\"Best parameters for logistic regression: \", grid_search.best_params_)\n",
    "\n",
    "\n",
    "model = VotingClassifier(estimators=[('lr', best_log_reg)])\n",
    "model.fit(X_train, y_train)"
   ]
  },
  {
   "cell_type": "code",
   "execution_count": 110,
   "id": "523004d7",
   "metadata": {},
   "outputs": [
    {
     "name": "stdout",
     "output_type": "stream",
     "text": [
      "Accuracy:  0.8256515373352855\n"
     ]
    }
   ],
   "source": [
    "# Evaluate the fine-tuned model\n",
    "y_pred = model.predict(X_val)\n",
    "accuracy = accuracy_score(y_val, y_pred)\n",
    "print(\"Accuracy: \", accuracy)"
   ]
  },
  {
   "cell_type": "code",
   "execution_count": 111,
   "id": "5496aaad",
   "metadata": {},
   "outputs": [
    {
     "name": "stdout",
     "output_type": "stream",
     "text": [
      "Accuracy of logistic regression classifier:  0.8233989309753207\n"
     ]
    }
   ],
   "source": [
    "# Evaluate the logistic regression classifier\n",
    "scores = cross_val_score(log_reg, X_train, y_train, cv=5)\n",
    "print(\"Accuracy of logistic regression classifier: \", scores.mean())"
   ]
  },
  {
   "cell_type": "code",
   "execution_count": 112,
   "id": "c0738ce1",
   "metadata": {},
   "outputs": [],
   "source": [
    "# Make predictions on the test set\n",
    "y_pred = model.predict(X_test)"
   ]
  },
  {
   "cell_type": "code",
   "execution_count": 113,
   "id": "fe0fce5c",
   "metadata": {},
   "outputs": [],
   "source": [
    "# Save the predictions to a CSV file\n",
    "output = pd.DataFrame({'client_id': test['client_id'], 'open_account_flg': y_pred})\n",
    "output.to_csv('submission.csv', index=False)"
   ]
  },
  {
   "cell_type": "code",
   "execution_count": 131,
   "id": "c29f58fe",
   "metadata": {},
   "outputs": [
    {
     "data": {
      "text/plain": [
       "46"
      ]
     },
     "execution_count": 131,
     "metadata": {},
     "output_type": "execute_result"
    }
   ],
   "source": []
  },
  {
   "cell_type": "code",
   "execution_count": null,
   "id": "0304d6c4",
   "metadata": {},
   "outputs": [],
   "source": []
  }
 ],
 "metadata": {
  "kernelspec": {
   "display_name": "Python 3 (ipykernel)",
   "language": "python",
   "name": "python3"
  },
  "language_info": {
   "codemirror_mode": {
    "name": "ipython",
    "version": 3
   },
   "file_extension": ".py",
   "mimetype": "text/x-python",
   "name": "python",
   "nbconvert_exporter": "python",
   "pygments_lexer": "ipython3",
   "version": "3.9.13"
  }
 },
 "nbformat": 4,
 "nbformat_minor": 5
}
